{
 "cells": [
  {
   "cell_type": "markdown",
   "metadata": {},
   "source": [
    "**1 - Imports**"
   ]
  },
  {
   "cell_type": "code",
   "execution_count": 1,
   "metadata": {},
   "outputs": [],
   "source": [
    "%matplotlib inline\n",
    "import matplotlib.pyplot as plt\n",
    "import numpy as np\n",
    "import os\n",
    "import warnings\n",
    "warnings.filterwarnings('ignore')"
   ]
  },
  {
   "cell_type": "markdown",
   "metadata": {},
   "source": [
    "**2 - First exercise: Reducing the dimension of some synthetic data**"
   ]
  },
  {
   "cell_type": "markdown",
   "metadata": {},
   "source": [
    "**2.1 - Extract data**"
   ]
  },
  {
   "cell_type": "code",
   "execution_count": 2,
   "metadata": {},
   "outputs": [
    {
     "data": {
      "text/plain": [
       "<matplotlib.collections.PathCollection at 0x1e07f1e79e8>"
      ]
     },
     "execution_count": 2,
     "metadata": {},
     "output_type": "execute_result"
    },
    {
     "data": {
      "image/png": "[encoded data removed]",
      "text/plain": [
       "<Figure size 432x288 with 1 Axes>"
      ]
     },
     "metadata": {
      "needs_background": "light"
     },
     "output_type": "display_data"
    }
   ],
   "source": [
    "def extract_data(file):\n",
    "    # Create matrix\n",
    "    data = []\n",
    "\n",
    "    # Open the file\n",
    "    with open(file, 'r') as file:\n",
    "        for line in file:\n",
    "            point = line.split()\n",
    "            \n",
    "            data.append([float(point[0]), float(point[1])])\n",
    "    \n",
    "    return np.array(data)\n",
    "\n",
    "X = extract_data('data_pca.txt')\n",
    "plt.scatter(X[:, 0], X[:, 1])"
   ]
  },
  {
   "cell_type": "markdown",
   "metadata": {},
   "source": [
    "**2.2 - Compute the mean of the points**"
   ]
  },
  {
   "cell_type": "code",
   "execution_count": 3,
   "metadata": {},
   "outputs": [
    {
     "data": {
      "text/plain": [
       "<matplotlib.collections.PathCollection at 0x1e07f28a710>"
      ]
     },
     "execution_count": 3,
     "metadata": {},
     "output_type": "execute_result"
    },
    {
     "data": {
      "image/png": "[encoded data removed]",
      "text/plain": [
       "<Figure size 432x288 with 1 Axes>"
      ]
     },
     "metadata": {
      "needs_background": "light"
     },
     "output_type": "display_data"
    }
   ],
   "source": [
    "mean_data = np.mean(X, axis=0)\n",
    "\n",
    "plt.scatter(X[:, 0], X[:, 1])\n",
    "plt.scatter(mean_data[0], mean_data[1])"
   ]
  },
  {
   "cell_type": "markdown",
   "metadata": {},
   "source": [
    "**2.3 - Centralise the data**"
   ]
  },
  {
   "cell_type": "code",
   "execution_count": 4,
   "metadata": {},
   "outputs": [
    {
     "data": {
      "text/plain": [
       "<matplotlib.collections.PathCollection at 0x1e07f2e8b38>"
      ]
     },
     "execution_count": 4,
     "metadata": {},
     "output_type": "execute_result"
    },
    {
     "data": {
      "image/png": "[encoded data removed]",
      "text/plain": [
       "<Figure size 432x288 with 1 Axes>"
      ]
     },
     "metadata": {
      "needs_background": "light"
     },
     "output_type": "display_data"
    }
   ],
   "source": [
    "X_centr = X - mean_data\n",
    "\n",
    "plt.scatter(X_centr[:, 0], X_centr[:, 1])"
   ]
  },
  {
   "cell_type": "markdown",
   "metadata": {},
   "source": [
    "**2.4 - Compute the covariance**"
   ]
  },
  {
   "cell_type": "code",
   "execution_count": 5,
   "metadata": {},
   "outputs": [
    {
     "name": "stdout",
     "output_type": "stream",
     "text": [
      "[[1.37606477 0.88301454]\n",
      " [0.88301454 1.04737128]]\n"
     ]
    }
   ],
   "source": [
    "cov_X = np.cov(X_centr.T)\n",
    "print(cov_X)"
   ]
  },
  {
   "cell_type": "markdown",
   "metadata": {},
   "source": [
    "**2.5 - Find the eigenvector corresponding to the largest eigenvalue of the covariance**"
   ]
  },
  {
   "cell_type": "code",
   "execution_count": 6,
   "metadata": {},
   "outputs": [
    {
     "name": "stdout",
     "output_type": "stream",
     "text": [
      "The principal axes of the data is along this vector: [0.76908317 0.63914872]\n"
     ]
    }
   ],
   "source": [
    "# Get the eignen values and corresponding vectors\n",
    "eig_vals, eig_vecs = np.linalg.eig(cov_X)\n",
    "\n",
    "# Make pairs\n",
    "eig_pairs = [(np.abs(eig_vals[i]), eig_vecs[:,i]) for i in range(len(eig_vals))]\n",
    "\n",
    "# Sort in descending order of eigen value\n",
    "eig_pairs.sort()\n",
    "eig_pairs.reverse()\n",
    "\n",
    "# Keep the eigenvector corresponding to the largest eigenvalue\n",
    "projection_vect = eig_pairs[0][1]\n",
    "print('The principal axes of the data is along this vector:', projection_vect)"
   ]
  },
  {
   "cell_type": "markdown",
   "metadata": {},
   "source": [
    "**2.6 - Project our data on the vector**"
   ]
  },
  {
   "cell_type": "code",
   "execution_count": 7,
   "metadata": {},
   "outputs": [
    {
     "data": {
      "text/plain": [
       "array([-1.49874228,  0.95842326, -1.40323452, -1.76425091, -1.40757522,\n",
       "        0.87371159, -1.2705341 ,  2.55069325,  0.01467385,  0.83691574,\n",
       "        0.70218352,  0.58710703,  0.12494323,  0.74692795, -1.67633442,\n",
       "        2.10277216,  0.95944693, -1.11631972,  2.37073581,  0.6900421 ,\n",
       "        2.39392811, -0.44282236,  1.98340059,  0.01059725, -1.83206018,\n",
       "       -0.62718606,  1.33171325,  1.45471326, -1.01920169, -0.01488809,\n",
       "        0.07208941,  1.78536119, -1.41319507,  0.82641747, -0.75167995,\n",
       "        1.40555847, -1.82311313,  1.59462045, -2.80785801,  0.32550217,\n",
       "        0.98575836, -0.98462777, -1.38955413,  1.03738884, -1.87688554,\n",
       "        0.24535621, -3.51802346, -1.54855517, -0.34417837,  1.55983868])"
      ]
     },
     "execution_count": 7,
     "metadata": {},
     "output_type": "execute_result"
    }
   ],
   "source": [
    "Y_centr = X_centr.dot(projection_vect)\n",
    "\n",
    "Y_centr"
   ]
  },
  {
   "cell_type": "markdown",
   "metadata": {},
   "source": [
    "**2.7 - Post-process the output**"
   ]
  },
  {
   "cell_type": "code",
   "execution_count": 16,
   "metadata": {},
   "outputs": [
    {
     "data": {
      "text/plain": [
       "array([4.76687056, 7.22403609, 4.86237831, 4.50136192, 4.85803761,\n",
       "       7.13932442, 4.99507873, 8.81630608, 6.28028668, 7.10252857,\n",
       "       6.96779635, 6.85271986, 6.39055606, 7.01254078, 4.58927841,\n",
       "       8.36838499, 7.22505976, 5.14929311, 8.63634864, 6.95565493,\n",
       "       8.65954094, 5.82279047, 8.24901342, 6.27621008, 4.43355265,\n",
       "       5.63842677, 7.59732608, 7.72032609, 5.24641114, 6.25072474,\n",
       "       6.33770224, 8.05097402, 4.85241776, 7.0920303 , 5.51393288,\n",
       "       7.6711713 , 4.4424997 , 7.86023328, 3.45775482, 6.591115  ,\n",
       "       7.2513712 , 5.28098506, 4.87605871, 7.30300167, 4.38872729,\n",
       "       6.51096904, 2.74758937, 4.71705766, 5.92143446, 7.82545151])"
      ]
     },
     "execution_count": 16,
     "metadata": {},
     "output_type": "execute_result"
    }
   ],
   "source": [
    "Y = Y_centr + mean_data.dot(projection_vect)\n",
    "\n",
    "Y"
   ]
  },
  {
   "cell_type": "markdown",
   "metadata": {},
   "source": [
    "**2.8 - Plot data**"
   ]
  },
  {
   "cell_type": "code",
   "execution_count": 14,
   "metadata": {},
   "outputs": [
    {
     "data": {
      "text/plain": [
       "<matplotlib.collections.PathCollection at 0x1e0001b9080>"
      ]
     },
     "execution_count": 14,
     "metadata": {},
     "output_type": "execute_result"
    },
    {
     "data": {
      "image/png": "[encoded data removed]",
      "text/plain": [
       "<Figure size 432x288 with 1 Axes>"
      ]
     },
     "metadata": {
      "needs_background": "light"
     },
     "output_type": "display_data"
    }
   ],
   "source": [
    "plt.scatter(X[:, 0], X[:, 1])\n",
    "plt.scatter(Y_centr * projection_vect[0] + mean_data[0], Y_centr * projection_vect[1] + mean_data[1])"
   ]
  },
  {
   "cell_type": "markdown",
   "metadata": {},
   "source": [
    "**3 - Second exercise: Reducing the dimension of some real data**"
   ]
  }
 ],
 "metadata": {
  "kernelspec": {
   "display_name": "Python 3",
   "language": "python",
   "name": "python3"
  },
  "language_info": {
   "codemirror_mode": {
    "name": "ipython",
    "version": 3
   },
   "file_extension": ".py",
   "mimetype": "text/x-python",
   "name": "python",
   "nbconvert_exporter": "python",
   "pygments_lexer": "ipython3",
   "version": "3.7.1"
  }
 },
 "nbformat": 4,
 "nbformat_minor": 2
}
